{
 "cells": [
  {
   "cell_type": "code",
   "execution_count": 2,
   "metadata": {
    "collapsed": true
   },
   "outputs": [],
   "source": [
    "\n",
    "import numpy as np\n",
    "\n",
    "def moving_avg(values,window):\n",
    "    weight = np.repeat(1.0,window)/window\n",
    "    sma = np.convolve(values,weight,'valid')\n",
    "    return sma\n"
   ]
  },
  {
   "cell_type": "code",
   "execution_count": 20,
   "metadata": {
    "collapsed": true
   },
   "outputs": [],
   "source": [
    "# Input\n",
    "x = [10,20,30,40,50,60,70,80,90,100]\n",
    "\n",
    "y = [3,5,7,2,8,10,11,65,72,81,99,100,150]"
   ]
  },
  {
   "cell_type": "code",
   "execution_count": 24,
   "metadata": {},
   "outputs": [
    {
     "name": "stdout",
     "output_type": "stream",
     "text": [
      "moving average in [10, 20, 30, 40, 50, 60, 70, 80, 90, 100] over window of 4 : \n",
      "[ 25.  35.  45.  55.  65.  75.  85.]\n",
      "\n",
      "\n",
      "moving average in [3, 5, 7, 2, 8, 10, 11, 65, 72, 81, 99, 100, 150] over window of 3 : \n",
      "[   5.            4.66666667    5.66666667    6.66666667    9.66666667\n",
      "   28.66666667   49.33333333   72.66666667   84.           93.33333333\n",
      "  116.33333333]\n"
     ]
    }
   ],
   "source": [
    "# Output\n",
    "print (\"moving average in {} over window of 4 : \\n{}\".format(x, moving_avg(x,4)))\n",
    "print (\"\\n\")\n",
    "print (\"moving average in {} over window of 3 : \\n{}\".format(y, moving_avg(y,3)))"
   ]
  }
 ],
 "metadata": {
  "kernelspec": {
   "display_name": "Python 3",
   "language": "python",
   "name": "python3"
  },
  "language_info": {
   "codemirror_mode": {
    "name": "ipython",
    "version": 3
   },
   "file_extension": ".py",
   "mimetype": "text/x-python",
   "name": "python",
   "nbconvert_exporter": "python",
   "pygments_lexer": "ipython3",
   "version": "3.6.3"
  }
 },
 "nbformat": 4,
 "nbformat_minor": 2
}
